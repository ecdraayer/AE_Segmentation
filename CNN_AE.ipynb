{
 "cells": [
  {
   "cell_type": "code",
   "execution_count": 1,
   "metadata": {},
   "outputs": [],
   "source": [
    "import pandas as pd\n",
    "import numpy as np\n",
    "from numpy import genfromtxt\n",
    "import matplotlib.pyplot as plt\n",
    "import os\n",
    "import csv\n",
    "from preprocessing import *\n",
    "from scipy import stats as st\n",
    "\n",
    "import torch\n",
    "import torch.nn as nn\n",
    "import torch.optim as optim\n",
    "import torchvision\n",
    "import torchvision.datasets as datasets\n",
    "import torchvision.transforms as transforms\n",
    "from torch.utils.data import DataLoader\n",
    "import numpy as np\n",
    "import matplotlib.pyplot as plt\n",
    "import os\n",
    "import torch.nn.functional as F\n",
    "from torch.autograd import Variable\n",
    "import math\n",
    "from sklearn.manifold import TSNE\n",
    "from sklearn.cluster import AgglomerativeClustering\n"
   ]
  },
  {
   "cell_type": "code",
   "execution_count": 2,
   "metadata": {},
   "outputs": [
    {
     "name": "stdout",
     "output_type": "stream",
     "text": [
      "(45, 45000)\n",
      "(45000,)\n"
     ]
    }
   ],
   "source": [
    "# The 19 activities are:\n",
    "# sitting (0): index 0,\n",
    "# standing (1),\n",
    "# lying on back and on right side (2 and 3),\n",
    "# ascending and descending stairs (4 and 5),\n",
    "# standing in an elevator still (6)\n",
    "# and moving around in an elevator (7),\n",
    "# walking in a parking lot (8),\n",
    "# walking on a treadmill with a speed of 4 km/h (in flat and 15 deg inclined positions) (9 and 10),\n",
    "# running on a treadmill with a speed of 8 km/h (11),\n",
    "# exercising on a stepper (12),\n",
    "# exercising on a cross trainer (13),\n",
    "# cycling on an exercise bike in horizontal and vertical positions (14 and 15),\n",
    "# rowing (16),\n",
    "# jumping (17),\n",
    "# and playing basketball (18): index 18\n",
    "\n",
    "activities = [0, 2, 3, 1, 8, 4, 14, 15, 14, 15, 1, 8, 11, 1, 12, 18, 5]\n",
    "durations = [10, 5, 7, 3, 30, 8, 25, 25, 25, 20, 10, 30, 30, 4, 40, 80, 8]\n",
    "person = 1\n",
    "\n",
    "time_series, labels = get_daily_sports_timeseries('.\\\\Data\\\\Daily Sports Activities\\\\', person, activities, durations)\n",
    "print(time_series.shape)\n",
    "print(labels.shape)"
   ]
  },
  {
   "cell_type": "code",
   "execution_count": 3,
   "metadata": {},
   "outputs": [
    {
     "name": "stdout",
     "output_type": "stream",
     "text": [
      "599\n",
      "599\n"
     ]
    }
   ],
   "source": [
    "windowLength = 75\n",
    "overlapPercent = 0.0\n",
    "activity_names = ['sitting',\n",
    "                 'standing',\n",
    "                 'lying on back',\n",
    "                 'lying on side',\n",
    "                 'ascending stairs',\n",
    "                 'descending stairs',\n",
    "                 'standing in elevator',\n",
    "                 'moving in elevator',\n",
    "                 'walking in lot',\n",
    "                 'walking on treadmill flat'\n",
    "                 'walking on treadmill incline',\n",
    "                 'running on treadmill',\n",
    "                 'exercising on stepper',\n",
    "                 'exercising on cross trainer',\n",
    "                 'cycling on bike horizontal',\n",
    "                 'cycling on bike vertical',\n",
    "                 'rowing',\n",
    "                 'jumping',\n",
    "                 'basketball']\n",
    "\n",
    "\n",
    "start = 0\n",
    "subsequences = []\n",
    "subsequence_labels = []\n",
    "\n",
    "while start+windowLength < len(time_series[0]):\n",
    "    subsequence_labels.append(st.mode(labels[start:start+windowLength])[0][0])    \n",
    "    subsequence = time_series[:,start:start+windowLength]\n",
    "    start = start+windowLength - int(overlapPercent*windowLength)\n",
    "    subsequences.append(subsequence)\n",
    "\n",
    "subsequences = np.asarray(subsequences)\n",
    "subsequence_labels = np.asarray(subsequence_labels)\n",
    "print(len(subsequences))\n",
    "print(len(subsequence_labels))"
   ]
  },
  {
   "cell_type": "code",
   "execution_count": 4,
   "metadata": {},
   "outputs": [
    {
     "name": "stdout",
     "output_type": "stream",
     "text": [
      "cuda\n"
     ]
    }
   ],
   "source": [
    "def loss_fn(recon_z, x):\n",
    "    BCE = F.mse_loss(recon_z, x)\n",
    "    return BCE\n",
    "\n",
    "def get_dataloader(data, batch_size, num_workers=0, data_transforms=None):\n",
    "    if data_transforms is None:\n",
    "        data_transforms = transforms.ToTensor()\n",
    "        \n",
    "    data_tensor = torch.from_numpy(data)\n",
    "    \n",
    "    data_loader = DataLoader(dataset=data_tensor, \n",
    "                             batch_size=batch_size, \n",
    "                             num_workers=num_workers)\n",
    "    \n",
    "    return data_loader\n",
    "\n",
    "# Device configuration\n",
    "device = torch.device('cuda' if torch.cuda.is_available() else 'cpu')\n",
    "print(device)\n",
    "\n",
    "\n",
    "transform = transforms.Compose([transforms.ToTensor(), transforms.Normalize((0.5, 0.5, 0.5), (0.5, 0.5, 0.5))])\n",
    "\n",
    "data_loader = get_dataloader(data=subsequences,\n",
    "                          batch_size=50,\n",
    "                          num_workers=2,\n",
    "                          data_transforms=None)"
   ]
  },
  {
   "cell_type": "code",
   "execution_count": 5,
   "metadata": {},
   "outputs": [],
   "source": [
    "class Flatten(nn.Module):\n",
    "    def forward(self, input):\n",
    "        return input.view(input.size(0), -1)\n",
    "    \n",
    "class UnFlatten(nn.Module):\n",
    "    def forward(self, input, size1=32, size2=5):\n",
    "        return input.view(input.size(0), size1, size2)\n",
    "    \n",
    "class Autoencoder(nn.Module):\n",
    "    \n",
    "    def __init__(self):\n",
    "        super().__init__()\n",
    "        self.clustering_space=None\n",
    "        \n",
    "        self.encoder = nn.Sequential(\n",
    "#             nn.Flatten(),\n",
    "#             nn.Linear(75, 60),\n",
    "#             nn.LeakyReLU(0.1),\n",
    "#             nn.Linear(60, 45),\n",
    "#             nn.LeakyReLU(0.1),\n",
    "#             nn.Linear(45, 30),\n",
    "#             nn.LeakyReLU(0.1),\n",
    "#             nn.Linear(2000, 1500),\n",
    "#             nn.LeakyReLU(0.1)\n",
    "            nn.Conv1d(45, 45, 6, stride=4), # increase chan\n",
    "            nn.LeakyReLU(0.1),\n",
    "            nn.Conv1d(45, 45, 5, stride=3),\n",
    "            nn.LeakyReLU(0.1),\n",
    "            nn.Conv1d(45, 45, 4, stride=2),\n",
    "            nn.LeakyReLU(0.1),\n",
    "#             nn.Conv1d(16, 32, 3, stride=2),\n",
    "#             nn.LeakyReLU(0.1),\n",
    "            #nn.Flatten()\n",
    "        )\n",
    "        \n",
    "        #self.fc1 = nn.Linear(2925, 2200)\n",
    "        #self.fc2 = nn.Linear(2200, 1500)\n",
    "        #self.fc3 = nn.Linear(1500, 2200)\n",
    "        #self.fc4 = nn.Linear(2200, 2925)\n",
    "        \n",
    "        self.decoder = nn.Sequential(\n",
    "#             nn.ConvTranspose1d(1, 1, 3, stride=1),\n",
    "#             nn.LeakyReLU(0.1),\n",
    "#             nn.ConvTranspose1d(1, 1, 3, stride=1),\n",
    "#             nn.LeakyReLU(0.1),\n",
    "#             nn.ConvTranspose1d(1, 1, 5, stride=2,output_padding=1),\n",
    "#             nn.LeakyReLU(0.1),\n",
    "#             nn.ConvTranspose1d(1, 1, 5, stride=2),\n",
    "#             nn.LeakyReLU(0.1)\n",
    "#             nn.Linear(30, 45),\n",
    "#             nn.LeakyReLU(0.1),\n",
    "#             nn.Linear(45, 60),\n",
    "#             nn.LeakyReLU(0.1),\n",
    "#             nn.Linear(60, 75),\n",
    "#             nn.LeakyReLU(0.1),\n",
    "#             nn.Linear(3000, 3375),\n",
    "#             nn.LeakyReLU(0.1),\n",
    "            #UnFlatten(),\n",
    "            nn.ConvTranspose1d(45, 45, 4, stride=2),\n",
    "            nn.LeakyReLU(0.1),\n",
    "            nn.ConvTranspose1d(45, 45, 5, stride=3),\n",
    "            nn.LeakyReLU(0.1),\n",
    "            nn.ConvTranspose1d(45, 45, 6, stride=4),\n",
    "            nn.LeakyReLU(0.1),\n",
    "            nn.Upsample(size=75, mode='nearest')\n",
    "#             nn.ConvTranspose1d(4, 1, 5, stride=2),\n",
    "#             nn.LeakyReLU(0.1),\n",
    "        )\n",
    "        \n",
    "        \n",
    "    def encode(self, x):\n",
    "        h = self.encoder(x)\n",
    "        #h = self.fc1(h)\n",
    "        return h\n",
    "    \n",
    "    def decode(self, z):\n",
    "        #z = self.fc3(z)\n",
    "        #z = self.fc4(z)\n",
    "        z = self.decoder(z)\n",
    "        return z\n",
    "    \n",
    "    def forward(self, x):\n",
    "        z = self.encode(x)\n",
    "        #z = self.fc2(z)\n",
    "        z = self.decode(z)\n",
    "        return z"
   ]
  },
  {
   "cell_type": "code",
   "execution_count": 6,
   "metadata": {},
   "outputs": [],
   "source": [
    "model = Autoencoder()\n",
    "model = model.double()\n",
    "\n",
    "criterion = loss_fn\n",
    "optimizer = torch.optim.Adam(model.parameters(), lr=1.5e-4)"
   ]
  },
  {
   "cell_type": "code",
   "execution_count": 12,
   "metadata": {},
   "outputs": [
    {
     "name": "stdout",
     "output_type": "stream",
     "text": [
      "torch.Size([50, 45, 75])\n",
      "Epoch:1, Loss:7.1055\n",
      "Epoch:2, Loss:7.1190\n",
      "Epoch:3, Loss:7.1023\n",
      "Epoch:4, Loss:7.1053\n",
      "Epoch:5, Loss:7.0984\n",
      "Epoch:6, Loss:7.0971\n",
      "Epoch:7, Loss:7.0893\n",
      "Epoch:8, Loss:7.1007\n",
      "Epoch:9, Loss:7.0708\n",
      "Epoch:10, Loss:7.1006\n",
      "Epoch:11, Loss:7.0625\n",
      "Epoch:12, Loss:7.0867\n",
      "Epoch:13, Loss:7.0605\n",
      "Epoch:14, Loss:7.0631\n",
      "Epoch:15, Loss:7.0567\n",
      "Epoch:16, Loss:7.0574\n",
      "Epoch:17, Loss:7.0424\n",
      "Epoch:18, Loss:7.0580\n",
      "Epoch:19, Loss:7.0276\n",
      "Epoch:20, Loss:7.0559\n",
      "Epoch:21, Loss:7.0234\n",
      "Epoch:22, Loss:7.0359\n",
      "Epoch:23, Loss:7.0209\n",
      "Epoch:24, Loss:7.0217\n",
      "Epoch:25, Loss:7.0124\n",
      "Epoch:26, Loss:7.0161\n",
      "Epoch:27, Loss:7.0027\n",
      "Epoch:28, Loss:7.0118\n",
      "Epoch:29, Loss:6.9926\n",
      "Epoch:30, Loss:6.9980\n",
      "Epoch:31, Loss:6.9905\n",
      "Epoch:32, Loss:6.9820\n",
      "Epoch:33, Loss:6.9891\n",
      "Epoch:34, Loss:6.9704\n",
      "Epoch:35, Loss:6.9842\n",
      "Epoch:36, Loss:6.9661\n",
      "Epoch:37, Loss:6.9751\n",
      "Epoch:38, Loss:6.9604\n",
      "Epoch:39, Loss:6.9674\n",
      "Epoch:40, Loss:6.9493\n",
      "Epoch:41, Loss:6.9612\n",
      "Epoch:42, Loss:6.9438\n",
      "Epoch:43, Loss:6.9499\n",
      "Epoch:44, Loss:6.9424\n",
      "Epoch:45, Loss:6.9327\n",
      "Epoch:46, Loss:6.9403\n",
      "Epoch:47, Loss:6.9229\n",
      "Epoch:48, Loss:6.9307\n",
      "Epoch:49, Loss:6.9206\n",
      "Epoch:50, Loss:6.9219\n",
      "Epoch:51, Loss:6.9142\n",
      "Epoch:52, Loss:6.9143\n",
      "Epoch:53, Loss:6.9046\n",
      "Epoch:54, Loss:6.9045\n",
      "Epoch:55, Loss:6.9001\n",
      "Epoch:56, Loss:6.8915\n",
      "Epoch:57, Loss:6.8949\n",
      "Epoch:58, Loss:6.8837\n",
      "Epoch:59, Loss:6.8853\n",
      "Epoch:60, Loss:6.8803\n",
      "Epoch:61, Loss:6.8747\n",
      "Epoch:62, Loss:6.8734\n",
      "Epoch:63, Loss:6.8642\n",
      "Epoch:64, Loss:6.8617\n",
      "Epoch:65, Loss:6.8592\n",
      "Epoch:66, Loss:6.8519\n",
      "Epoch:67, Loss:6.8493\n",
      "Epoch:68, Loss:6.8465\n",
      "Epoch:69, Loss:6.8416\n",
      "Epoch:70, Loss:6.8390\n",
      "Epoch:71, Loss:6.8332\n",
      "Epoch:72, Loss:6.8289\n",
      "Epoch:73, Loss:6.8233\n",
      "Epoch:74, Loss:6.8180\n",
      "Epoch:75, Loss:6.8155\n",
      "Epoch:76, Loss:6.8101\n",
      "Epoch:77, Loss:6.8062\n",
      "Epoch:78, Loss:6.8034\n",
      "Epoch:79, Loss:6.7993\n",
      "Epoch:80, Loss:6.7956\n",
      "Epoch:81, Loss:6.7955\n",
      "Epoch:82, Loss:6.7825\n",
      "Epoch:83, Loss:6.7828\n",
      "Epoch:84, Loss:6.7786\n",
      "Epoch:85, Loss:6.7692\n",
      "Epoch:86, Loss:6.7709\n",
      "Epoch:87, Loss:6.7599\n",
      "Epoch:88, Loss:6.7602\n",
      "Epoch:89, Loss:6.7549\n",
      "Epoch:90, Loss:6.7547\n",
      "Epoch:91, Loss:6.7504\n",
      "Epoch:92, Loss:6.7421\n",
      "Epoch:93, Loss:6.7419\n",
      "Epoch:94, Loss:6.7306\n",
      "Epoch:95, Loss:6.7315\n",
      "Epoch:96, Loss:6.7229\n",
      "Epoch:97, Loss:6.7188\n",
      "Epoch:98, Loss:6.7133\n",
      "Epoch:99, Loss:6.7100\n",
      "Epoch:100, Loss:6.7091\n",
      "Epoch:101, Loss:6.7048\n",
      "Epoch:102, Loss:6.7043\n",
      "Epoch:103, Loss:6.6944\n",
      "Epoch:104, Loss:6.6913\n",
      "Epoch:105, Loss:6.6832\n",
      "Epoch:106, Loss:6.6842\n",
      "Epoch:107, Loss:6.6778\n",
      "Epoch:108, Loss:6.6714\n",
      "Epoch:109, Loss:6.6666\n",
      "Epoch:110, Loss:6.6648\n",
      "Epoch:111, Loss:6.6639\n",
      "Epoch:112, Loss:6.6604\n",
      "Epoch:113, Loss:6.6556\n",
      "Epoch:114, Loss:6.6465\n",
      "Epoch:115, Loss:6.6477\n",
      "Epoch:116, Loss:6.6373\n",
      "Epoch:117, Loss:6.6374\n",
      "Epoch:118, Loss:6.6344\n",
      "Epoch:119, Loss:6.6226\n",
      "Epoch:120, Loss:6.6200\n",
      "Epoch:121, Loss:6.6181\n",
      "Epoch:122, Loss:6.6185\n",
      "Epoch:123, Loss:6.6106\n",
      "Epoch:124, Loss:6.6059\n",
      "Epoch:125, Loss:6.5983\n",
      "Epoch:126, Loss:6.5967\n",
      "Epoch:127, Loss:6.5948\n",
      "Epoch:128, Loss:6.5870\n",
      "Epoch:129, Loss:6.5812\n",
      "Epoch:130, Loss:6.5749\n",
      "Epoch:131, Loss:6.5740\n",
      "Epoch:132, Loss:6.5722\n",
      "Epoch:133, Loss:6.5694\n",
      "Epoch:134, Loss:6.5676\n",
      "Epoch:135, Loss:6.5559\n",
      "Epoch:136, Loss:6.5524\n",
      "Epoch:137, Loss:6.5495\n",
      "Epoch:138, Loss:6.5474\n",
      "Epoch:139, Loss:6.5392\n",
      "Epoch:140, Loss:6.5358\n",
      "Epoch:141, Loss:6.5263\n",
      "Epoch:142, Loss:6.5252\n",
      "Epoch:143, Loss:6.5306\n",
      "Epoch:144, Loss:6.5214\n",
      "Epoch:145, Loss:6.5163\n",
      "Epoch:146, Loss:6.5078\n",
      "Epoch:147, Loss:6.5054\n",
      "Epoch:148, Loss:6.5043\n",
      "Epoch:149, Loss:6.5026\n",
      "Epoch:150, Loss:6.4945\n",
      "Epoch:151, Loss:6.4818\n",
      "Epoch:152, Loss:6.4821\n",
      "Epoch:153, Loss:6.4798\n",
      "Epoch:154, Loss:6.4824\n",
      "Epoch:155, Loss:6.4761\n",
      "Epoch:156, Loss:6.4666\n",
      "Epoch:157, Loss:6.4609\n",
      "Epoch:158, Loss:6.4615\n",
      "Epoch:159, Loss:6.4624\n",
      "Epoch:160, Loss:6.4520\n",
      "Epoch:161, Loss:6.4405\n",
      "Epoch:162, Loss:6.4356\n",
      "Epoch:163, Loss:6.4357\n",
      "Epoch:164, Loss:6.4382\n",
      "Epoch:165, Loss:6.4268\n",
      "Epoch:166, Loss:6.4231\n",
      "Epoch:167, Loss:6.4131\n",
      "Epoch:168, Loss:6.4177\n",
      "Epoch:169, Loss:6.4170\n",
      "Epoch:170, Loss:6.4009\n",
      "Epoch:171, Loss:6.3962\n",
      "Epoch:172, Loss:6.3915\n",
      "Epoch:173, Loss:6.3946\n",
      "Epoch:174, Loss:6.3912\n",
      "Epoch:175, Loss:6.3833\n",
      "Epoch:176, Loss:6.3760\n",
      "Epoch:177, Loss:6.3760\n",
      "Epoch:178, Loss:6.3725\n",
      "Epoch:179, Loss:6.3663\n",
      "Epoch:180, Loss:6.3566\n",
      "Epoch:181, Loss:6.3494\n",
      "Epoch:182, Loss:6.3504\n",
      "Epoch:183, Loss:6.3483\n",
      "Epoch:184, Loss:6.3389\n",
      "Epoch:185, Loss:6.3335\n",
      "Epoch:186, Loss:6.3301\n",
      "Epoch:187, Loss:6.3297\n",
      "Epoch:188, Loss:6.3263\n",
      "Epoch:189, Loss:6.3133\n",
      "Epoch:190, Loss:6.3103\n",
      "Epoch:191, Loss:6.3040\n",
      "Epoch:192, Loss:6.3040\n",
      "Epoch:193, Loss:6.3037\n",
      "Epoch:194, Loss:6.2953\n",
      "Epoch:195, Loss:6.2875\n",
      "Epoch:196, Loss:6.2886\n",
      "Epoch:197, Loss:6.2831\n",
      "Epoch:198, Loss:6.2860\n",
      "Epoch:199, Loss:6.2740\n",
      "Epoch:200, Loss:6.2621\n",
      "Epoch:201, Loss:6.2624\n",
      "Epoch:202, Loss:6.2571\n",
      "Epoch:203, Loss:6.2564\n",
      "Epoch:204, Loss:6.2571\n",
      "Epoch:205, Loss:6.2441\n",
      "Epoch:206, Loss:6.2385\n",
      "Epoch:207, Loss:6.2439\n",
      "Epoch:208, Loss:6.2365\n",
      "Epoch:209, Loss:6.2440\n",
      "Epoch:210, Loss:6.2201\n",
      "Epoch:211, Loss:6.2173\n",
      "Epoch:212, Loss:6.2162\n",
      "Epoch:213, Loss:6.2154\n",
      "Epoch:214, Loss:6.2165\n",
      "Epoch:215, Loss:6.2069\n",
      "Epoch:216, Loss:6.1981\n",
      "Epoch:217, Loss:6.1959\n",
      "Epoch:218, Loss:6.2096\n",
      "Epoch:219, Loss:6.1868\n",
      "Epoch:220, Loss:6.1881\n",
      "Epoch:221, Loss:6.1720\n",
      "Epoch:222, Loss:6.1727\n",
      "Epoch:223, Loss:6.1769\n",
      "Epoch:224, Loss:6.1637\n",
      "Epoch:225, Loss:6.1630\n",
      "Epoch:226, Loss:6.1602\n",
      "Epoch:227, Loss:6.1559\n",
      "Epoch:228, Loss:6.1581\n",
      "Epoch:229, Loss:6.1470\n",
      "Epoch:230, Loss:6.1368\n",
      "Epoch:231, Loss:6.1354\n",
      "Epoch:232, Loss:6.1335\n",
      "Epoch:233, Loss:6.1337\n",
      "Epoch:234, Loss:6.1268\n",
      "Epoch:235, Loss:6.1218\n",
      "Epoch:236, Loss:6.1223\n",
      "Epoch:237, Loss:6.1252\n",
      "Epoch:238, Loss:6.1114\n",
      "Epoch:239, Loss:6.1065\n",
      "Epoch:240, Loss:6.1011\n",
      "Epoch:241, Loss:6.1022\n",
      "Epoch:242, Loss:6.0983\n",
      "Epoch:243, Loss:6.0890\n",
      "Epoch:244, Loss:6.0898\n",
      "Epoch:245, Loss:6.0878\n",
      "Epoch:246, Loss:6.0824\n",
      "Epoch:247, Loss:6.0772\n",
      "Epoch:248, Loss:6.0648\n",
      "Epoch:249, Loss:6.0629\n",
      "Epoch:250, Loss:6.0602\n",
      "Epoch:251, Loss:6.0552\n",
      "Epoch:252, Loss:6.0492\n",
      "Epoch:253, Loss:6.0469\n",
      "Epoch:254, Loss:6.0444\n",
      "Epoch:255, Loss:6.0404\n",
      "Epoch:256, Loss:6.0310\n",
      "Epoch:257, Loss:6.0273\n",
      "Epoch:258, Loss:6.0241\n",
      "Epoch:259, Loss:6.0206\n",
      "Epoch:260, Loss:6.0163\n",
      "Epoch:261, Loss:6.0108\n",
      "Epoch:262, Loss:6.0092\n",
      "Epoch:263, Loss:6.0076\n",
      "Epoch:264, Loss:6.0003\n",
      "Epoch:265, Loss:5.9972\n",
      "Epoch:266, Loss:5.9930\n",
      "Epoch:267, Loss:5.9862\n",
      "Epoch:268, Loss:5.9803\n",
      "Epoch:269, Loss:5.9749\n",
      "Epoch:270, Loss:5.9754\n",
      "Epoch:271, Loss:5.9731\n",
      "Epoch:272, Loss:5.9641\n",
      "Epoch:273, Loss:5.9614\n",
      "Epoch:274, Loss:5.9599\n",
      "Epoch:275, Loss:5.9553\n",
      "Epoch:276, Loss:5.9546\n",
      "Epoch:277, Loss:5.9552\n",
      "Epoch:278, Loss:5.9484\n",
      "Epoch:279, Loss:5.9420\n",
      "Epoch:280, Loss:5.9324\n",
      "Epoch:281, Loss:5.9291\n",
      "Epoch:282, Loss:5.9291\n",
      "Epoch:283, Loss:5.9307\n",
      "Epoch:284, Loss:5.9292\n",
      "Epoch:285, Loss:5.9190\n",
      "Epoch:286, Loss:5.9156\n",
      "Epoch:287, Loss:5.9145\n",
      "Epoch:288, Loss:5.9139\n",
      "Epoch:289, Loss:5.9188\n",
      "Epoch:290, Loss:5.9188\n",
      "Epoch:291, Loss:5.9046\n",
      "Epoch:292, Loss:5.8902\n",
      "Epoch:293, Loss:5.8871\n",
      "Epoch:294, Loss:5.8994\n",
      "Epoch:295, Loss:5.8989\n",
      "Epoch:296, Loss:5.8870\n",
      "Epoch:297, Loss:5.8809\n",
      "Epoch:298, Loss:5.8839\n",
      "Epoch:299, Loss:5.8908\n",
      "Epoch:300, Loss:5.8789\n"
     ]
    }
   ],
   "source": [
    "dataiter = iter(data_loader)\n",
    "data = dataiter.next()\n",
    "features = data\n",
    "print(features.shape)\n",
    "\n",
    "# Point to training loop video\n",
    "num_epochs = 300\n",
    "outputs = []\n",
    "for epoch in range(num_epochs):\n",
    "    for ts in data_loader:\n",
    "        # img = img.reshape(-1, 28*28) # -> use for Autoencoder_Linear\n",
    "        recon = model(ts.double())\n",
    "        loss = criterion(recon, ts)\n",
    "        \n",
    "        optimizer.zero_grad()\n",
    "        loss.backward()\n",
    "        optimizer.step()\n",
    "\n",
    "    print(f'Epoch:{epoch+1}, Loss:{loss.item():.4f}')\n",
    "    outputs.append((epoch, ts, recon))"
   ]
  },
  {
   "cell_type": "code",
   "execution_count": 13,
   "metadata": {},
   "outputs": [
    {
     "name": "stdout",
     "output_type": "stream",
     "text": [
      "12\n"
     ]
    }
   ],
   "source": [
    "clustering_output = []\n",
    "for ts in data_loader:\n",
    "    recon = model.encode((ts.double()))\n",
    "    clustering_output.append( recon.detach().numpy() ) \n",
    "    \n",
    "print(len(clustering_output))\n",
    "clustering_output = [item for sublist in clustering_output for item in sublist]"
   ]
  },
  {
   "cell_type": "code",
   "execution_count": 14,
   "metadata": {},
   "outputs": [
    {
     "name": "stdout",
     "output_type": "stream",
     "text": [
      "(599, 45, 1)\n"
     ]
    }
   ],
   "source": [
    "clustering_output = np.asarray(clustering_output)\n",
    "print(clustering_output.shape)\n",
    "clustering_output_f = []\n",
    "for i,co in enumerate(clustering_output):\n",
    "    clustering_output[i].flatten()\n",
    "    clustering_output_f.append(clustering_output[i].flatten())\n",
    "clustering_output_f = np.asarray(clustering_output_f)\n"
   ]
  },
  {
   "cell_type": "code",
   "execution_count": 15,
   "metadata": {},
   "outputs": [
    {
     "name": "stdout",
     "output_type": "stream",
     "text": [
      "(599, 2)\n",
      "(45000,)\n"
     ]
    }
   ],
   "source": [
    "X_embedded = TSNE(n_components=2).fit_transform(clustering_output_f)\n",
    "print(X_embedded.shape)\n",
    "print(labels.shape)"
   ]
  },
  {
   "cell_type": "code",
   "execution_count": 16,
   "metadata": {},
   "outputs": [
    {
     "data": {
      "text/plain": [
       "<matplotlib.legend.Legend at 0x1d376980040>"
      ]
     },
     "execution_count": 16,
     "metadata": {},
     "output_type": "execute_result"
    },
    {
     "data": {
      "image/png": "[encoded data removed]",
      "text/plain": [
       "<Figure size 432x288 with 1 Axes>"
      ]
     },
     "metadata": {
      "needs_background": "light"
     },
     "output_type": "display_data"
    }
   ],
   "source": [
    "cmap = plt.get_cmap('tab20c')\n",
    "activity_names = ['sitting',\n",
    "                 'standing',\n",
    "                 'lying on back',\n",
    "                 'lying on side',\n",
    "                 'ascending stairs',\n",
    "                 'descending stairs',\n",
    "                 'standing in elevator',\n",
    "                 'moving in elevator',\n",
    "                 'walking in lot',\n",
    "                 'walking on treadmill flat',\n",
    "                 'walking on treadmill incline',\n",
    "                 'running on treadmill',\n",
    "                 'exercising on stepper',\n",
    "                 'exercising on cross trainer',\n",
    "                 'cycling on bike horizontal',\n",
    "                 'cycling on bike vertical',\n",
    "                 'rowing',\n",
    "                 'jumping',\n",
    "                 'basketball']\n",
    "\n",
    "\n",
    "l = [0,1,2,3,4,5,6,7,8,9,10,11,12,13,14,15,16,17,18]\n",
    "slicedCM = cmap(np.linspace(0, 1, len(l))) \n",
    "\n",
    "\n",
    "\n",
    "for m,la in enumerate(l): \n",
    "    ind = np.where(subsequence_labels==la)\n",
    "    plt.scatter(X_embedded[ind,0],X_embedded[ind,1],color=slicedCM[m], label=activity_names[la])\n",
    "\n",
    "plt.legend(loc=1, bbox_to_anchor=(1.1, 0., 0.5, 1.0))"
   ]
  },
  {
   "cell_type": "code",
   "execution_count": 49,
   "metadata": {},
   "outputs": [
    {
     "name": "stdout",
     "output_type": "stream",
     "text": [
      "[10 10 10 10 10 10 10 10 10 10 10 10 10 10 10 10 10 11 11 11 11 11 11 11\n",
      " 11  5  5  5  5  5  5  5  5  5  5  5  5  0  0  0  0  0  0  0  0  0  0  0\n",
      "  0  0  0  0  0  0  0  0  0  0  0  0  0  0  0  0  0  0  0  0  0  0  0  0\n",
      "  0  0  0  0  0  0  0  0  0  0  0  0  0  0  0  0  0  0  0  0  0  0  0  0\n",
      "  0  0  0  0  0  0  0  0  0 10 10 10 10 10 10 10 10 10 10 10 10 10 10 10\n",
      " 10 10 10 10 10 10 10 10 10 10 10 10 10 10 10 10 10 10 10 10 10 10 10 10\n",
      " 10 10 10  8  8  8  8  8  8  8  8  8  8  8  8 10  8  8  8  8  8  8  8  8\n",
      "  8  8  8  8  8  8  8  8  8  8  8  8  8  8  8  8  8  8  8  8 10 10 10 10\n",
      " 10 10 10 10 10 10 10 10 10 10 10 10 10 10 10 10 10 10 10 10 10 10 10 10\n",
      " 10 10 10 10 10 10 10 10 10 10 10 10 10 10  8  8  8  8  8  8  8  8  8  8\n",
      "  8  8  8  8  8  8  8  8  8  8  8 10  8  8  8  8  8  8  8  8  8  8  8  1\n",
      "  0  0  0  0  0  0  0  0  0  0  0  0  0  0  0  0  0  0  0  0  0  0  0  0\n",
      "  0  0  0  0  0  0  0  0  0  0  0  0  0  0  0  0  0  0  0  0  0  0  0  0\n",
      "  0  0  0  0  0  0  0  0  0  0  0  0  0  0  0  0  0  0  9  3  2  3  2  3\n",
      "  2  6  3  2  2  4  2  4  6  3  4  2  3  1  1  1  4  4  2  6  9  4  3  3\n",
      "  2  1  3  2  6  9  9  2  4  4  3  2  6  9  3  6  3  3  2  6  0  0  0  0\n",
      "  0  0  0  1  1  1  1  1  1  1  1  1  1  1  1  1  1  1  1  1  1  1  1  1\n",
      "  1  1  1  1  1  1  1  1  1  1  1  1  1  1  1  1  1  1  1  1  1  1  1  1\n",
      "  1  1  1  1  1  1  1  1  1  1  1  1  1  1  1  1  1  1  1  1  1  1  1  1\n",
      "  1  1  1  1  1  1  1  1  7  1  1  1  1  7  1  1  1  1  1  1  1  1  1  1\n",
      "  1  1  7  7  1  1  1  7  1  1  1  1  1  1  1  1  1  1  1  1  1  1  1  1\n",
      "  1  1  1  1  1  1  1  1  1  7  1  1  1  1  1  1  1  1  1  1  1  1  1  1\n",
      "  1  7  1  1  1  1  1  1  1  1  1  1  1  1  7  1  1  7  1  7  1  1  1  1\n",
      "  7  1  1  1  1  7  1  1  7  7  7  1  1  7  7  1  1  1  1  7  7  1  1  7\n",
      "  1  1  7  1  1  1  1  1  7  1  0  0  0  0  0  0  0  0  0  0  0  0  0]\n"
     ]
    }
   ],
   "source": [
    "# here we need to mention the number of clusters\n",
    "# otherwise the result will be a single cluster\n",
    "# containing all the data\n",
    "clustering = AgglomerativeClustering(n_clusters = 12).fit(clustering_output_f)\n",
    " \n",
    "# print the class labels\n",
    "print(clustering.labels_)"
   ]
  },
  {
   "cell_type": "code",
   "execution_count": 72,
   "metadata": {},
   "outputs": [
    {
     "data": {
      "text/plain": [
       "599"
      ]
     },
     "execution_count": 72,
     "metadata": {},
     "output_type": "execute_result"
    }
   ],
   "source": [
    "len(subsequence_labels)"
   ]
  },
  {
   "cell_type": "code",
   "execution_count": 84,
   "metadata": {},
   "outputs": [
    {
     "data": {
      "image/png": "[encoded data removed]",
      "text/plain": [
       "<Figure size 432x288 with 1 Axes>"
      ]
     },
     "metadata": {
      "needs_background": "light"
     },
     "output_type": "display_data"
    }
   ],
   "source": [
    "\n",
    "positions = np.arange(len(clustering.labels_))[:,np.newaxis]\n",
    "plt.eventplot(positions, lineoffsets=clustering.labels_, color = [(1.0,0.1,0.8)])\n",
    "vlines = np.where(subsequence_labels[:-1] != subsequence_labels[1:])[0]\n",
    "#for vline in vlines:\n",
    "#    plt.axvline(x = vline, color = 'b', label = 'axvline - full height', linestyle=':', mfc='b')\n",
    "\n",
    "start = 0\n",
    "for i, activity in enumerate(activities):\n",
    "    if i == len(activities):\n",
    "        continue\n",
    "    if i == len(activities)-1:\n",
    "        end = len(subsequence_labels)\n",
    "    else:\n",
    "        end = vlines[i]\n",
    "    plt.axvspan(start, end, alpha=1.0, color=slicedCM[activity], label=activity_names[activity])\n",
    "    plt.legend(loc=1, bbox_to_anchor=(1.1, 0., 0.5, 1.0))\n",
    "    start = end\n",
    "plt.show()"
   ]
  },
  {
   "cell_type": "code",
   "execution_count": 89,
   "metadata": {},
   "outputs": [
    {
     "name": "stdout",
     "output_type": "stream",
     "text": [
      "10199\n"
     ]
    }
   ],
   "source": [
    "# The 19 activities are:\n",
    "# sitting (0): index 0,\n",
    "# standing (1),\n",
    "# lying on back and on right side (2 and 3),\n",
    "# ascending and descending stairs (4 and 5),\n",
    "# standing in an elevator still (6)\n",
    "# and moving around in an elevator (7),\n",
    "# walking in a parking lot (8),\n",
    "# walking on a treadmill with a speed of 4 km/h (in flat and 15 deg inclined positions) (9 and 10),\n",
    "# running on a treadmill with a speed of 8 km/h (11),\n",
    "# exercising on a stepper (12),\n",
    "# exercising on a cross trainer (13),\n",
    "# cycling on an exercise bike in horizontal and vertical positions (14 and 15),\n",
    "# rowing (16),\n",
    "# jumping (17),\n",
    "# and playing basketball (18): index 18\n",
    "activities = [0, 2, 3, 1, 8, 4, 14, 15, 14, 15, 1, 8, 11, 1, 12, 18, 5]\n",
    "durations = [10, 5, 7, 3, 30, 8, 25, 25, 25, 20, 10, 30, 30, 4, 40, 80, 8]\n"
   ]
  },
  {
   "cell_type": "code",
   "execution_count": 20,
   "metadata": {},
   "outputs": [
    {
     "data": {
      "text/plain": [
       "array([ 16,  24,  36,  41,  91, 104, 146, 187, 229, 262, 279, 329, 379,\n",
       "       386, 452, 586], dtype=int64)"
      ]
     },
     "execution_count": 20,
     "metadata": {},
     "output_type": "execute_result"
    }
   ],
   "source": [
    "np.where(subsequence_labels[:-1] != subsequence_labels[1:])[0]"
   ]
  },
  {
   "cell_type": "code",
   "execution_count": 91,
   "metadata": {},
   "outputs": [
    {
     "data": {
      "text/plain": [
       "array([False, False, False, ..., False, False, False])"
      ]
     },
     "execution_count": 91,
     "metadata": {},
     "output_type": "execute_result"
    }
   ],
   "source": [
    "subsequence_labels[:-1]!= subsequence_labels[1:]"
   ]
  },
  {
   "cell_type": "code",
   "execution_count": 83,
   "metadata": {},
   "outputs": [
    {
     "data": {
      "text/plain": [
       "5"
      ]
     },
     "execution_count": 83,
     "metadata": {},
     "output_type": "execute_result"
    }
   ],
   "source": [
    "st.mode(labels[start:start+windowLength])[0][0]"
   ]
  },
  {
   "cell_type": "code",
   "execution_count": 101,
   "metadata": {},
   "outputs": [
    {
     "data": {
      "text/plain": [
       "array([0, 0, 0, ..., 2, 2, 3])"
      ]
     },
     "execution_count": 101,
     "metadata": {},
     "output_type": "execute_result"
    }
   ],
   "source": [
    "subsequence_labels[:1201]"
   ]
  },
  {
   "cell_type": "code",
   "execution_count": 32,
   "metadata": {},
   "outputs": [
    {
     "data": {
      "text/plain": [
       "[0, [0, 2, 3, 1, 8, 4, 14, 15, 14, 15, 1, 8, 11, 1, 12, 18, 5], 1]"
      ]
     },
     "execution_count": 32,
     "metadata": {},
     "output_type": "execute_result"
    }
   ],
   "source": [
    "[0, activities, 1]"
   ]
  },
  {
   "cell_type": "code",
   "execution_count": 48,
   "metadata": {},
   "outputs": [
    {
     "name": "stdout",
     "output_type": "stream",
     "text": [
      "12 [ 1250  2125   625   875  1000  1000  7500  3750  5000  6250  5625 10000]\n"
     ]
    }
   ],
   "source": [
    "unique, counts = np.unique(labels, return_counts=True)\n",
    "print(len(unique), counts)"
   ]
  },
  {
   "cell_type": "code",
   "execution_count": null,
   "metadata": {},
   "outputs": [],
   "source": [
    "durations = [10, 5, 7, 3, 30, 8, 25, 25, 25, 20, 10, 30, 30, 4, 40, 80, 8]\n",
    "activities = [0, 2, 3, 1, 8,  4, 14, 15, 14, 15, 1,   8, 11, 1, 12, 18, 5]\n",
    "durations = [10, 5, 7, 3, 30, 8, 25, 25, 25, 20, 10, 30, 30, 4, 40, 80, 8]\n"
   ]
  },
  {
   "cell_type": "code",
   "execution_count": 105,
   "metadata": {},
   "outputs": [],
   "source": [
    "clips = np.random.randint(low=0, high=60, size=20)"
   ]
  },
  {
   "cell_type": "code",
   "execution_count": 106,
   "metadata": {},
   "outputs": [
    {
     "data": {
      "text/plain": [
       "array([16, 30, 15,  3, 19, 52, 52, 45,  8, 30, 33, 55, 14, 12, 22, 22, 55,\n",
       "        0, 38,  8])"
      ]
     },
     "execution_count": 106,
     "metadata": {},
     "output_type": "execute_result"
    }
   ],
   "source": [
    "clips"
   ]
  },
  {
   "cell_type": "code",
   "execution_count": null,
   "metadata": {},
   "outputs": [],
   "source": []
  }
 ],
 "metadata": {
  "kernelspec": {
   "display_name": "Python 3",
   "language": "python",
   "name": "python3"
  },
  "language_info": {
   "codemirror_mode": {
    "name": "ipython",
    "version": 3
   },
   "file_extension": ".py",
   "mimetype": "text/x-python",
   "name": "python",
   "nbconvert_exporter": "python",
   "pygments_lexer": "ipython3",
   "version": "3.8.5"
  }
 },
 "nbformat": 4,
 "nbformat_minor": 4
}
